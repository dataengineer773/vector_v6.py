{
 "cells": [
  {
   "cell_type": "code",
   "execution_count": 1,
   "id": "949625d7-86f6-4277-8a75-236256583f3b",
   "metadata": {},
   "outputs": [],
   "source": [
    "def __abs__(self):\n",
    "    return math.hypot(*self)\n",
    "\n",
    "def __neg__(self):\n",
    "    return Vector(-x for x in self)\n",
    "\n",
    "def __pos__(self):\n",
    "    return Vector(self)"
   ]
  },
  {
   "cell_type": "code",
   "execution_count": null,
   "id": "11910515-453b-45fd-9ede-64bbf7d52a71",
   "metadata": {},
   "outputs": [],
   "source": []
  }
 ],
 "metadata": {
  "kernelspec": {
   "display_name": "Python 3 (ipykernel)",
   "language": "python",
   "name": "python3"
  },
  "language_info": {
   "codemirror_mode": {
    "name": "ipython",
    "version": 3
   },
   "file_extension": ".py",
   "mimetype": "text/x-python",
   "name": "python",
   "nbconvert_exporter": "python",
   "pygments_lexer": "ipython3",
   "version": "3.12.3"
  }
 },
 "nbformat": 4,
 "nbformat_minor": 5
}
